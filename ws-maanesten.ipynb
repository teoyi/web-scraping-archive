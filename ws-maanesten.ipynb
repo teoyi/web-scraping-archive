{
 "metadata": {
  "language_info": {
   "codemirror_mode": {
    "name": "ipython",
    "version": 3
   },
   "file_extension": ".py",
   "mimetype": "text/x-python",
   "name": "python",
   "nbconvert_exporter": "python",
   "pygments_lexer": "ipython3",
   "version": "3.8.3-final"
  },
  "orig_nbformat": 2,
  "kernelspec": {
   "name": "python3",
   "display_name": "Python 3",
   "language": "python"
  }
 },
 "nbformat": 4,
 "nbformat_minor": 2,
 "cells": [
  {
   "cell_type": "code",
   "execution_count": 1,
   "metadata": {},
   "outputs": [],
   "source": [
    "import requests\n",
    "from bs4 import BeautifulSoup"
   ]
  },
  {
   "cell_type": "code",
   "execution_count": 2,
   "metadata": {},
   "outputs": [
    {
     "output_type": "stream",
     "name": "stdout",
     "text": [
      "10\n"
     ]
    }
   ],
   "source": [
    "# Acknowledged that the page is made up of hidden pages\n",
    "# Finding the maximum number of pages for this category \n",
    "def_url = 'https://maanesten.com/product-category/accessories-2/hair-claws/'\n",
    "r_def = requests.get(def_url, headers={\"User-Agent\":\"Mozilla/5.0 (Windows NT 10.0; Win64; x64) AppleWebKit/537.36 (KHTML, like Gecko) Chrome/83.0.4103.116 Safari/537.36\"})\n",
    "c_def = r_def.content \n",
    "soup_def = BeautifulSoup(c_def, 'html.parser')\n",
    "pNumber = soup_def.find_all('a', {'class' : 'page-numbers'})[-2].text # [-1] will result in the arrow sign, pName = Page Number \n",
    "print(pNumber)"
   ]
  },
  {
   "cell_type": "code",
   "execution_count": 3,
   "metadata": {},
   "outputs": [
    {
     "output_type": "stream",
     "name": "stdout",
     "text": [
      "['Tell Hairclaw Purple', 'Tell Hairclaw Mermaid Blue', 'Light Hairclaw Apricot', 'Light Hairclaw Milky Green', 'Light Hairclaw Mermaid Blue', 'Balance Hairclaw Purple', 'Balance Hairclaw Apricot', 'Sally Hairclaw Mermaid Blue', 'Sally Hairclaw Milky Green', 'Tiny Love Hairclaw Apricot', 'Tiny Love Hairclaw Mermaid Blue', 'Cloud Hairclaw Apricot', 'Sky Hairclaw Apricot', 'Sky Hairclaw Milky Green', 'Joliana Blue Sky', 'Joliana Red Sky', 'Joliana Peach Sky', 'Helo Hairclaw Blue Sky', 'Helo Hairclaw Red Sky', 'Helo Hairclaw Peach Sky', 'Tell Hairclaw Purple', 'Tell Hairclaw Mermaid Blue', 'Light Hairclaw Apricot', 'Light Hairclaw Milky Green', 'Light Hairclaw Mermaid Blue', 'Balance Hairclaw Purple', 'Balance Hairclaw Apricot', 'Sally Hairclaw Mermaid Blue', 'Sally Hairclaw Milky Green', 'Tiny Love Hairclaw Apricot', 'Tiny Love Hairclaw Mermaid Blue', 'Cloud Hairclaw Apricot', 'Sky Hairclaw Apricot', 'Sky Hairclaw Milky Green', 'Joliana Blue Sky', 'Joliana Red Sky', 'Joliana Peach Sky', 'Helo Hairclaw Blue Sky', 'Helo Hairclaw Red Sky', 'Helo Hairclaw Peach Sky', 'Tell Hairclaw Purple', 'Tell Hairclaw Mermaid Blue', 'Light Hairclaw Apricot', 'Light Hairclaw Milky Green', 'Light Hairclaw Mermaid Blue', 'Balance Hairclaw Purple', 'Balance Hairclaw Apricot', 'Sally Hairclaw Mermaid Blue', 'Sally Hairclaw Milky Green', 'Tiny Love Hairclaw Apricot', 'Tiny Love Hairclaw Mermaid Blue', 'Cloud Hairclaw Apricot', 'Sky Hairclaw Apricot', 'Sky Hairclaw Milky Green', 'Joliana Blue Sky', 'Joliana Red Sky', 'Joliana Peach Sky', 'Helo Hairclaw Blue Sky', 'Helo Hairclaw Red Sky', 'Helo Hairclaw Peach Sky', 'Tell Hairclaw Purple', 'Tell Hairclaw Mermaid Blue', 'Light Hairclaw Apricot', 'Light Hairclaw Milky Green', 'Light Hairclaw Mermaid Blue', 'Balance Hairclaw Purple', 'Balance Hairclaw Apricot', 'Sally Hairclaw Mermaid Blue', 'Sally Hairclaw Milky Green', 'Tiny Love Hairclaw Apricot', 'Tiny Love Hairclaw Mermaid Blue', 'Cloud Hairclaw Apricot', 'Sky Hairclaw Apricot', 'Sky Hairclaw Milky Green', 'Joliana Blue Sky', 'Joliana Red Sky', 'Joliana Peach Sky', 'Helo Hairclaw Blue Sky', 'Helo Hairclaw Red Sky', 'Helo Hairclaw Peach Sky', 'Tell Hairclaw Purple', 'Tell Hairclaw Mermaid Blue', 'Light Hairclaw Apricot', 'Light Hairclaw Milky Green', 'Light Hairclaw Mermaid Blue', 'Balance Hairclaw Purple', 'Balance Hairclaw Apricot', 'Sally Hairclaw Mermaid Blue', 'Sally Hairclaw Milky Green', 'Tiny Love Hairclaw Apricot', 'Tiny Love Hairclaw Mermaid Blue', 'Cloud Hairclaw Apricot', 'Sky Hairclaw Apricot', 'Sky Hairclaw Milky Green', 'Joliana Blue Sky', 'Joliana Red Sky', 'Joliana Peach Sky', 'Helo Hairclaw Blue Sky', 'Helo Hairclaw Red Sky', 'Helo Hairclaw Peach Sky', 'Tell Hairclaw Purple', 'Tell Hairclaw Mermaid Blue', 'Light Hairclaw Apricot', 'Light Hairclaw Milky Green', 'Light Hairclaw Mermaid Blue', 'Balance Hairclaw Purple', 'Balance Hairclaw Apricot', 'Sally Hairclaw Mermaid Blue', 'Sally Hairclaw Milky Green', 'Tiny Love Hairclaw Apricot', 'Tiny Love Hairclaw Mermaid Blue', 'Cloud Hairclaw Apricot', 'Sky Hairclaw Apricot', 'Sky Hairclaw Milky Green', 'Joliana Blue Sky', 'Joliana Red Sky', 'Joliana Peach Sky', 'Helo Hairclaw Blue Sky', 'Helo Hairclaw Red Sky', 'Helo Hairclaw Peach Sky', 'Tell Hairclaw Purple', 'Tell Hairclaw Mermaid Blue', 'Light Hairclaw Apricot', 'Light Hairclaw Milky Green', 'Light Hairclaw Mermaid Blue', 'Balance Hairclaw Purple', 'Balance Hairclaw Apricot', 'Sally Hairclaw Mermaid Blue', 'Sally Hairclaw Milky Green', 'Tiny Love Hairclaw Apricot', 'Tiny Love Hairclaw Mermaid Blue', 'Cloud Hairclaw Apricot', 'Sky Hairclaw Apricot', 'Sky Hairclaw Milky Green', 'Joliana Blue Sky', 'Joliana Red Sky', 'Joliana Peach Sky', 'Helo Hairclaw Blue Sky', 'Helo Hairclaw Red Sky', 'Helo Hairclaw Peach Sky', 'Tell Hairclaw Purple', 'Tell Hairclaw Mermaid Blue', 'Light Hairclaw Apricot', 'Light Hairclaw Milky Green', 'Light Hairclaw Mermaid Blue', 'Balance Hairclaw Purple', 'Balance Hairclaw Apricot', 'Sally Hairclaw Mermaid Blue', 'Sally Hairclaw Milky Green', 'Tiny Love Hairclaw Apricot', 'Tiny Love Hairclaw Mermaid Blue', 'Cloud Hairclaw Apricot', 'Sky Hairclaw Apricot', 'Sky Hairclaw Milky Green', 'Joliana Blue Sky', 'Joliana Red Sky', 'Joliana Peach Sky', 'Helo Hairclaw Blue Sky', 'Helo Hairclaw Red Sky', 'Helo Hairclaw Peach Sky', 'Tell Hairclaw Purple', 'Tell Hairclaw Mermaid Blue', 'Light Hairclaw Apricot', 'Light Hairclaw Milky Green', 'Light Hairclaw Mermaid Blue', 'Balance Hairclaw Purple', 'Balance Hairclaw Apricot', 'Sally Hairclaw Mermaid Blue', 'Sally Hairclaw Milky Green', 'Tiny Love Hairclaw Apricot', 'Tiny Love Hairclaw Mermaid Blue', 'Cloud Hairclaw Apricot', 'Sky Hairclaw Apricot', 'Sky Hairclaw Milky Green', 'Joliana Blue Sky', 'Joliana Red Sky', 'Joliana Peach Sky', 'Helo Hairclaw Blue Sky', 'Helo Hairclaw Red Sky', 'Helo Hairclaw Peach Sky', 'Tell Hairclaw Purple', 'Tell Hairclaw Mermaid Blue', 'Light Hairclaw Apricot', 'Light Hairclaw Milky Green', 'Light Hairclaw Mermaid Blue', 'Balance Hairclaw Purple', 'Balance Hairclaw Apricot', 'Sally Hairclaw Mermaid Blue', 'Sally Hairclaw Milky Green', 'Tiny Love Hairclaw Apricot', 'Tiny Love Hairclaw Mermaid Blue', 'Cloud Hairclaw Apricot', 'Sky Hairclaw Apricot', 'Sky Hairclaw Milky Green', 'Joliana Blue Sky', 'Joliana Red Sky', 'Joliana Peach Sky', 'Helo Hairclaw Blue Sky', 'Helo Hairclaw Red Sky', 'Helo Hairclaw Peach Sky']\n"
     ]
    }
   ],
   "source": [
    "base_url = 'https://maanesten.com/product/'\n",
    "list_url = 'https://maanesten.com/product-category/accessories-2/hair-claws/page/'\n",
    "pName = [] # Empty list to house names \n",
    "for page in range (1, int(pNumber) + 1, 1): # Page number starts at 1 and ends at pNumber\n",
    "    url = list_url + str(page) + '/'\n",
    "    r_list = requests.get(url, headers={\"User-Agent\":\"Mozilla/5.0 (Windows NT 10.0; Win64; x64) AppleWebKit/537.36 (KHTML, like Gecko) Chrome/83.0.4103.116 Safari/537.36\"})\n",
    "    c_list = r_list.content \n",
    "    soup_list = BeautifulSoup(c_list, 'html.parser')\n",
    "    # print(soup_list.prettify())\n",
    "    uls = soup_list.find('ul', {'class' : 'products'})\n",
    "    h3s = uls.find_all('h3')\n",
    "    for h3 in h3s: \n",
    "        pName.append(h3.text)\n",
    "\n",
    "print(pName)\n"
   ]
  },
  {
   "cell_type": "code",
   "execution_count": null,
   "metadata": {},
   "outputs": [],
   "source": []
  }
 ]
}