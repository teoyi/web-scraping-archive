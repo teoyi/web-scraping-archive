{
 "metadata": {
  "language_info": {
   "codemirror_mode": {
    "name": "ipython",
    "version": 3
   },
   "file_extension": ".py",
   "mimetype": "text/x-python",
   "name": "python",
   "nbconvert_exporter": "python",
   "pygments_lexer": "ipython3",
   "version": "3.8.3-final"
  },
  "orig_nbformat": 2,
  "kernelspec": {
   "name": "python3",
   "display_name": "Python 3",
   "language": "python"
  }
 },
 "nbformat": 4,
 "nbformat_minor": 2,
 "cells": [
  {
   "cell_type": "code",
   "execution_count": 1,
   "metadata": {},
   "outputs": [],
   "source": [
    "import requests\n",
    "import numpy as np\n",
    "import pandas as pd\n",
    "from bs4 import BeautifulSoup"
   ]
  },
  {
   "cell_type": "code",
   "execution_count": 2,
   "metadata": {},
   "outputs": [
    {
     "output_type": "stream",
     "name": "stdout",
     "text": [
      "$725,000\n3\n"
     ]
    }
   ],
   "source": [
    "r = requests.get(\"http://www.pyclass.com/real-estate/rock-springs-wy/LCWYROCKSPRINGS/\", headers={'User-agent': 'Mozilla/5.0 (X11; Ubuntu; Linux x86_64; rv:61.0) Gecko/20100101 Firefox/61.0'})\n",
    "c = r.content\n",
    "soup = BeautifulSoup(c, 'html.parser')\n",
    "\n",
    "# Understanding the webpage through inspect \n",
    "# Use inspect to determine the division and header tags used to contain the information you want to scrape \n",
    "# discovered that h4 class propPrice contain the price of the house\n",
    "# discovered that div class CardDetails contains the rest of the information we want \n",
    "\n",
    "all = soup.find_all(\"div\", {\"class\":\"propertyRow\"})\n",
    "#print(len(all)) #because this is a list we can apply manipulation  \n",
    "# taking a look at the first entry \n",
    "print(all[0].find(\"h4\", {\"class\":\"propPrice\"}).text.replace(\"\\n\",\"\").replace(\" \", \"\")) # because ofhow the price is displayed, we replace all the weird extra stuff with empty space \n",
    "\n",
    "page_nr = soup.find_all('a', {'class':'Page'})[-1].text\n",
    "print(page_nr)"
   ]
  },
  {
   "cell_type": "code",
   "execution_count": 3,
   "metadata": {},
   "outputs": [
    {
     "output_type": "stream",
     "name": "stdout",
     "text": [
      "http://www.pyclass.com/real-estate/rock-springs-wy/LCWYROCKSPRINGS/t=0&s=0.html\n",
      "http://www.pyclass.com/real-estate/rock-springs-wy/LCWYROCKSPRINGS/t=0&s=10.html\n",
      "http://www.pyclass.com/real-estate/rock-springs-wy/LCWYROCKSPRINGS/t=0&s=20.html\n"
     ]
    }
   ],
   "source": [
    "list = [] \n",
    "base_url = \"http://www.pyclass.com/real-estate/rock-springs-wy/LCWYROCKSPRINGS/t=0&s=\"\n",
    "for page in range(0,int(page_nr)*10,10): \n",
    "    print(base_url+str(page)+'.html') \n",
    "    r = requests.get(base_url+str(page)+'.html',headers={'User-agent': 'Mozilla/5.0 (X11; Ubuntu; Linux x86_64; rv:61.0) Gecko/20100101 Firefox/61.0'})\n",
    "    c = r.content \n",
    "    soup = BeautifulSoup(c, \"html.parser\")\n",
    "    all = soup.find_all('div', {'class':'propertyRow'})\n",
    "    for item in all: \n",
    "        d = {} # Storing info into dictionary to convert to dataframe \n",
    "        d['Price'] = item.find(\"h4\", {\"class\":'propPrice'}).text.replace('\\n','').replace(' ','')\n",
    "        d['Address'] = item.find_all(\"span\", {\"class\" : 'propAddressCollapse'})[0].text\n",
    "        try: \n",
    "            d['Locality'] = item.find_all(\"span\", {\"class\" : 'propAddressCollapse'})[1].text\n",
    "        except: \n",
    "            d['Locality'] = None\n",
    "        # Try and except is used to return 0 for entries that do not have that specific info\n",
    "        try:\n",
    "            d['Beds'] = item.find(\"span\", {'class': 'infoBed'}).find('b').text\n",
    "        except:\n",
    "            d['Beds'] = None\n",
    "\n",
    "        try: \n",
    "            d['Area'] = item.find('span', {'class' : 'infoSqFt'}).find('b').text\n",
    "        except:\n",
    "            d['Area'] = None\n",
    "\n",
    "        try: \n",
    "            d['Full Bath'] = item.find('span', {'class' : 'infoValueFullBath'}).find('b').text\n",
    "        except:\n",
    "            d['Full Bath'] = None\n",
    "\n",
    "        try: \n",
    "            d['Half Bath'] = item.find('span', {'class' : 'infoValueHalfBath'}).find('b').text\n",
    "        except:\n",
    "            d['Half Bath'] = None \n",
    "\n",
    "        for column_group in item.find_all('div', {'class' : 'columnGroup'}):\n",
    "            for feature_group, feature_name in zip(column_group.find_all('span', {'class':'featureGroup'}), column_group.find_all('span', {'class':'featureName'})):\n",
    "                if 'Lot Size' in feature_group.text:\n",
    "                    d['Lot Size'] = feature_name.text\n",
    "        list.append(d)\n",
    "    #print(list)"
   ]
  },
  {
   "cell_type": "code",
   "execution_count": 4,
   "metadata": {},
   "outputs": [
    {
     "output_type": "stream",
     "name": "stdout",
     "text": [
      "         Price                        Address                     Locality  \\\n0     $725,000                      0 Gateway       Rock Springs, WY 82901   \n1     $452,900          1003 Winchester Blvd.       Rock Springs, WY 82901   \n2     $396,900                  600 Talladega       Rock Springs, WY 82901   \n3     $389,900             3239 Spearhead Way       Rock Springs, WY 82901   \n4     $254,000             522 Emerald Street       Rock Springs, WY 82901   \n5     $252,900           1302 Veteran's Drive       Rock Springs, WY 82901   \n6     $210,000               1021 Cypress Cir       Rock Springs, WY 82901   \n7     $209,000                 913 Madison Dr       Rock Springs, WY 82901   \n8     $199,900              1344 Teton Street       Rock Springs, WY 82901   \n9     $196,900                 4 Minnies Lane       Rock Springs, WY 82901   \n10  $1,700,000                  9339 Sd 26900        Rocksprings, TX 78880   \n11  $1,100,000               RR674P13 Hwy 377        Rocksprings, TX 78880   \n12  $1,080,000                       0 Hwy 41        Rocksprings, TX 78880   \n13    $908,350                  9339 Sd 26900        Rocksprings, TX 78880   \n14    $905,000                  CR450 Hwy 377        Rocksprings, TX 78880   \n15    $695,000                  Cr 240 Cr 240        Rocksprings, TX 78880   \n16    $605,000                  RR674 Hwy 377        Rocksprings, TX 78880   \n17    $559,805                 9770a Sd 26900        Rocksprings, TX 78880   \n18    $504,000                  Lot17 CR 2630        Rocksprings, TX 78880   \n19    $410,000                 Tr12,16 CR 520        Rocksprings, TX 78880   \n20    $299,900   32575 S Shadow Mountain Road  Black Canyon City, AZ 85324   \n21    $167,500        32750 S Shangrila Drive  Black Canyon City, AZ 85324   \n22    $150,000      0000 Black Canyon Highway  Black Canyon City, AZ 85324   \n23    $129,500           34775 S CHOLLA Drive  Black Canyon City, AZ 85324   \n24    $129,000      33403 S. HA-WA-SI TERRACE  BLACK CANYON CITY, AZ 85324   \n25     $80,000          34263 S Bertha Street  Black Canyon City, AZ 85324   \n26     $77,900            33160 S Canyon Road  Black Canyon City, AZ 85324   \n27     $70,500        19421 E Todd Evans Road  Black Canyon City, AZ 85324   \n28     $70,000             18688 E AGUA Vista  Black Canyon City, AZ 85324   \n29     $67,500  50600 N Old Black Canyon Road  Black Canyon City, AZ 85324   \n30     $54,900      20101 E SQUAW VALLEY Road  Black Canyon City, AZ 85324   \n31     $45,600            33259 S Canyon Road  Black Canyon City, AZ 85324   \n32     $40,000          34558 S ROADRUNNER RD  Black Canyon City, AZ 85324   \n33     $30,000       19260 E Scenic Loop Road  Black Canyon City, AZ 85324   \n34     $29,000           19000 E MAREN Avenue  Black Canyon City, AZ 85324   \n35     $28,995          19350 E SAGUARO Drive  Black Canyon City, AZ 85324   \n36     $15,000         20650 E Amethyst Place  Black Canyon City, AZ 85324   \n\n    Beds   Area Full Bath Half Bath          Lot Size  \n0   None   None      None      None               NaN  \n1      4   None         4      None        0.21 Acres  \n2      5  3,154         3      None               NaN  \n3      4  3,076         3         1  Under 1/2 Acre,   \n4      3  1,172         3      None  Under 1/2 Acre,   \n5      4  1,932         2      None        0.27 Acres  \n6      4  1,676         3      None  Under 1/2 Acre,   \n7      3  1,344         2      None  Under 1/2 Acre,   \n8      3  1,920         2      None  Under 1/2 Acre,   \n9      3  1,664         2      None        2.02 Acres  \n10  None  2,560      None      None               NaN  \n11  None  2,000      None      None               NaN  \n12  None   None      None      None               NaN  \n13  None  2,560      None      None               NaN  \n14  None   None      None      None               NaN  \n15  None  1,398      None      None               NaN  \n16  None  1,738      None      None               NaN  \n17  None  1,080      None      None               NaN  \n18  None   None      None      None               NaN  \n19  None   None      None      None               NaN  \n20     3  2,318         2      None               NaN  \n21     3  2,120         2      None               NaN  \n22  None   None      None      None           5 Acres  \n23     3  1,220         2      None               NaN  \n24     4  2,000         2      None               NaN  \n25     5  2,260         2      None               NaN  \n26     3  1,248         2      None               NaN  \n27     3  1,404         2      None               NaN  \n28  None   None      None      None         0.7 Acres  \n29  None   None      None      None           3 Acres  \n30  None   None      None      None               NaN  \n31     3  1,056         1      None               NaN  \n32     2    784         1      None    Under 1/2 Acre  \n33  None   None      None      None        2.35 Acres  \n34  None   None      None      None        2.05 Acres  \n35  None   None      None      None        0.73 Acres  \n36  None   None      None      None        0.31 Acres  \n"
     ]
    }
   ],
   "source": [
    "# Creating dataframe to store info \n",
    "\n",
    "df = pd.DataFrame(list)\n",
    "print(df)"
   ]
  },
  {
   "cell_type": "code",
   "execution_count": 5,
   "metadata": {},
   "outputs": [],
   "source": [
    "# Saving to csv \n",
    "#df.to_csv(df)"
   ]
  },
  {
   "cell_type": "code",
   "execution_count": null,
   "metadata": {},
   "outputs": [],
   "source": []
  }
 ]
}